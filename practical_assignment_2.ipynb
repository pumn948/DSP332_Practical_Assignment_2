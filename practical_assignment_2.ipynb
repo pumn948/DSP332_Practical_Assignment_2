{
  "nbformat": 4,
  "nbformat_minor": 0,
  "metadata": {
    "colab": {
      "provenance": []
    },
    "kernelspec": {
      "name": "python3",
      "display_name": "Python 3"
    },
    "language_info": {
      "name": "python"
    }
  },
  "cells": [
    {
      "cell_type": "markdown",
      "source": [
        "#Part 1\n",
        "\n",
        "**Data pre-processing/exploring**\n",
        "\n",
        "Goal: this part aims to familiarise the student team with the dataset, explore its characteristics and identify the features that will be used in the classification task.\n",
        "\n",
        "The student team is required to do the following to complete this part of the assignment:\n",
        "\n",
        "    Select and describe the dataset based on the information provided in the repository where the dataset is available.\n",
        "    If the dataset retrieved from the repository is not in a format that is easy to work with (e.g. comma, comma-separated values or .csv file), transform it into the required format.\n",
        "    If the values of any features (attributes) are textual values (e.g. yes/no, positive/neutral/negative, etc.), transform them into numeric values.\n",
        "    If some data objects have missing or outlier values for some features (attributes), find a way to deal with them by studying additional sources of information.\n",
        "    Represent the dataset visually and calculate statistical indicators:\n",
        "\n",
        "    create at least two 2- or 3-dimensional scatter plots illustrating class separability based on different features (attributes); students should avoid using the data object ID or class label as a variable in the scatter plots;\n",
        "    create at least 2 histograms showing the separation of classes based on features (attributes) of interest;\n",
        "    show the distribution of the 2 features (attributes) of interest;\n",
        "    calculate statistical indicators (at least the central tendency and the dispersion of the feature values).\n",
        "\n",
        "\n",
        "Include the following information in the report:\n",
        "description of the dataset (including references to the information sources used) \t- title, source, creator and/or owner of the dataset\n",
        "- description of the problem domain of the dataset\n",
        "- the licensing conditions of the dataset (if any)\n",
        "- the way in which the dataset was collected\n",
        "description of the content of the dataset (including references to the information sources used) \t- number of data objects in the dataset\n",
        "- the representation of the features (attributes) of the dataset together with their roles in the Orange tool (a clear representation of the target variable, used and skipped features)\n",
        "- the number of classes in the dataset, the meaning of each class and the way the classes are represented (explanation of the labels corresponding to the classes); if the dataset provides several possible classifications of the data, the report must identify which classification exactly is being considered in the work\n",
        "- the number of data objects belonging to each class\n",
        "- the number and meaning of the features (attributes) in the dataset, as well as their value types and ranges (this information must be represented in a table, indicating the feature title, explanation, value type and range of values available in the dataset)\n",
        "- a snippet of the data file structure showing all columns of the data file and their values for at least some data objects\n",
        "conclusions drawn from the analysis of scatter plots, histograms and distributions (see Step 5 of Part I) on the separability of the classes in the dataset. Students must answer the given questions \t- Are the classes in the dataset balanced, or does one class (or several classes) prevail? It is determined by judging how many data objects belong to each class.\n",
        "- Does the visual representation of the data allow the structure of the data to be seen? It is about whether data objects belonging to different classes can be clearly separated.\n",
        "- How many data groupings can be identified by studying the visual representation of the data? It is about whether there are any separable groupings of data or data objects of different classes are merged.\n",
        "- Are the identified data groupings close to each other or far apart?\n",
        "conclusions from the analysis of statistical indicators (at least the central tendency and the dispersion of the feature values)\n",
        "\n",
        "The Part I must end with conclusions about the features that will be used in futher analysis.\n"
      ],
      "metadata": {
        "id": "pZS2TpCyyEKw"
      }
    },
    {
      "cell_type": "code",
      "execution_count": null,
      "metadata": {
        "id": "vE261qJox2Qz"
      },
      "outputs": [],
      "source": [
        "# code here"
      ]
    },
    {
      "cell_type": "markdown",
      "source": [
        "#Part2\n",
        "\n",
        "**Unsupervised machine learning**\n",
        "\n",
        "Goal: This part of the assignment aims to investigate the dataset further using clustering algorithms to see if the conclusions drawn earlier about the structure of the dataset and the separability of classes are valid.\n",
        "\n",
        "The student team is required to do the following to complete this part of the assignment:\n",
        "\n",
        "    Apply the two unsupervised machine learning algorithms considered in the study course: (1) Hierarchical clustering and (2)  K-means algorithm.\n",
        "    For the Hierarchical clustering algorithm, perform at least 3 experiments by keeping the same linkage method and freely moving the cut-off line and analysing how the number and content of the clusters change.\n",
        "    Calculate the Silhouette coefficient for the K-means algorithm for at least 5 different values of k and analyse the performance of the algorithm.\n",
        "\n",
        "Include the following information into the report:\n",
        "\n",
        "    Description of the hyperparameters available in the Orange tool and their meaning for each of the algorithms (including references to the information sources used).\n",
        "    Description of the experiments performed with each of the algorithms, clearly indicating the values of the hyperparameters used and providing conclusions on the performance of the algorithm in terms of how the results obtained correspond to the known number of classes in the dataset.\n",
        "    Conclusions whether the classes in the dataset are well or poorly separable based on the analysis of the performance of the two algorithms.\n",
        "\n"
      ],
      "metadata": {
        "id": "9zYsScydyOes"
      }
    },
    {
      "cell_type": "code",
      "source": [
        "#code here"
      ],
      "metadata": {
        "id": "DvDz-B0myUyV"
      },
      "execution_count": null,
      "outputs": []
    },
    {
      "cell_type": "markdown",
      "source": [
        "#Part 3\n",
        "**Supervised machine learning**\n",
        "\n",
        "Goal: This part of the assignment aims to apply at least 3 classification algorithms to the previously analysed dataset and selected features of data objects.\n",
        "\n",
        "One of the algorithms that must be used is artificial neural networks. The student team is free to choose two other algorithms.\n",
        "\n",
        "The student team must do the following to complete this part of the assignment:\n",
        "\n",
        "    Choose at least two supervised machine learning algorithms for the classification task. Students may use the algorithms covered in the study course or any other algorithms designed for the classification task. In the Orange tool these could be Logistic Regression, kNN, Tree, RandomForest, Gradient Boosting, SVM, Naive Bayes, AdaBoost.\n",
        "    Split the dataset into training and test datasets.\n",
        "    Perform at least 3 experiments with each algorithm using the training dataset, changing the values of the algorithm hyperparameters and analysing the performance metrics of the algorithms.\n",
        "    For each algorithm, select the trained model that provides the best algorithm performance.\n",
        "    Apply the trained model for each algorithm to the test dataset.\n",
        "    Evaluate and compare the performance of the trained models.\n",
        "\n",
        "Include the following information into the report:\n",
        "\n",
        "    A brief description (1/3 of an A4 page) of the two freely chosen algorithms and the rationale for their choice (excluding artificial neural networks), including references to the sources of information used.\n",
        "    Description of all hyperparameters available in the Orange tool and their meaning for each of the algorithms.\n",
        "    Information on the test and training datasets: (a) the total number of data objects added to the test and training datasets (number and %) and (b) information on how many data objects from each class are included in the training and test datasets (number and %).\n",
        "    Hyperparameter values used in the experiments with each of the algorithms (in a table format) and screenshots showing these values and the performance metrics of the experiments.\n",
        "    Conclusions on the performance of the models in the experiments performed, clearly identifying the model that will be used for testing.\n",
        "    Results of the testing of the trained models and a comparison and interpretation of their performance, clearly separated from the training experiments.\n"
      ],
      "metadata": {
        "id": "eRwULuvqyXPs"
      }
    },
    {
      "cell_type": "code",
      "source": [
        "# code here"
      ],
      "metadata": {
        "id": "9_TuD181yaY1"
      },
      "execution_count": null,
      "outputs": []
    }
  ]
}